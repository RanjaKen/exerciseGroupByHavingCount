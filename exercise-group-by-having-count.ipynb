{
 "cells": [
  {
   "cell_type": "markdown",
   "id": "01630b7c",
   "metadata": {
    "papermill": {
     "duration": 0.007917,
     "end_time": "2024-09-05T11:49:32.337341",
     "exception": false,
     "start_time": "2024-09-05T11:49:32.329424",
     "status": "completed"
    },
    "tags": []
   },
   "source": [
    "**This notebook is an exercise in the [SQL](https://www.kaggle.com/learn/intro-to-sql) course.  You can reference the tutorial at [this link](https://www.kaggle.com/dansbecker/group-by-having-count).**\n",
    "\n",
    "---\n"
   ]
  },
  {
   "cell_type": "markdown",
   "id": "35cdfc7a",
   "metadata": {
    "papermill": {
     "duration": 0.005067,
     "end_time": "2024-09-05T11:49:32.348037",
     "exception": false,
     "start_time": "2024-09-05T11:49:32.342970",
     "status": "completed"
    },
    "tags": []
   },
   "source": [
    "# Introduction\n",
    "\n",
    "Queries with **GROUP BY** can be powerful. There are many small things that can trip you up (like the order of the clauses), but it will start to feel natural once you've done it a few times. Here, you'll write queries using **GROUP BY** to answer questions from the Hacker News dataset.\n",
    "\n",
    "Before you get started, run the following cell to set everything up:"
   ]
  },
  {
   "cell_type": "code",
   "execution_count": 1,
   "id": "9911a8a2",
   "metadata": {
    "execution": {
     "iopub.execute_input": "2024-09-05T11:49:32.360887Z",
     "iopub.status.busy": "2024-09-05T11:49:32.360309Z",
     "iopub.status.idle": "2024-09-05T11:49:40.949505Z",
     "shell.execute_reply": "2024-09-05T11:49:40.948108Z"
    },
    "papermill": {
     "duration": 8.599163,
     "end_time": "2024-09-05T11:49:40.952503",
     "exception": false,
     "start_time": "2024-09-05T11:49:32.353340",
     "status": "completed"
    },
    "tags": []
   },
   "outputs": [
    {
     "name": "stdout",
     "output_type": "stream",
     "text": [
      "Using Kaggle's public dataset BigQuery integration.\n",
      "Setup Complete\n"
     ]
    }
   ],
   "source": [
    "# Set up feedback system\n",
    "from learntools.core import binder\n",
    "binder.bind(globals())\n",
    "\n",
    "\n",
    "with open(\"/opt/conda/lib/python3.10/site-packages/learntools/sql/ex3.py\",\"r\") as f:\n",
    "    ex3 = f.read()\n",
    "    ex3 = ex3.replace(\"SELECT author\",\"SELECT `by`\") # need to use backtick since column name is 'by' which is also a SQL keyword\n",
    "    ex3 = ex3.replace(\"GROUP BY author\",\"GROUP BY `by`\")\n",
    "    ex3 = ex3.replace(\"\\'author\\'\",\"\\'by\\'\")\n",
    "    ex3 = ex3.replace(\"`author`\",\"\\`by\\`\")\n",
    "    ex3 = ex3.replace(\"bigquery-public-data.hacker_news.comments\",\"bigquery-public-data.hacker_news.full\")\n",
    "\n",
    "# Write fixes into v2 file\n",
    "with open(\"/opt/conda/lib/python3.10/site-packages/learntools/sql/ex3_v2.py\",\"w\") as f2:\n",
    "    f2.write(ex3)\n",
    "        \n",
    "        \n",
    "from learntools.sql.ex3 import *\n",
    "print(\"Setup Complete\")"
   ]
  },
  {
   "cell_type": "markdown",
   "id": "e72b5a1d",
   "metadata": {
    "papermill": {
     "duration": 0.005231,
     "end_time": "2024-09-05T11:49:40.963471",
     "exception": false,
     "start_time": "2024-09-05T11:49:40.958240",
     "status": "completed"
    },
    "tags": []
   },
   "source": [
    "The code cell below fetches the `full` table from the `hacker_news` dataset.  We also preview the first five rows of the table."
   ]
  },
  {
   "cell_type": "code",
   "execution_count": 2,
   "id": "1d02bed3",
   "metadata": {
    "execution": {
     "iopub.execute_input": "2024-09-05T11:49:40.976952Z",
     "iopub.status.busy": "2024-09-05T11:49:40.976282Z",
     "iopub.status.idle": "2024-09-05T11:49:42.362171Z",
     "shell.execute_reply": "2024-09-05T11:49:42.360833Z"
    },
    "papermill": {
     "duration": 1.39588,
     "end_time": "2024-09-05T11:49:42.364983",
     "exception": false,
     "start_time": "2024-09-05T11:49:40.969103",
     "status": "completed"
    },
    "tags": []
   },
   "outputs": [
    {
     "name": "stdout",
     "output_type": "stream",
     "text": [
      "Using Kaggle's public dataset BigQuery integration.\n"
     ]
    },
    {
     "data": {
      "text/html": [
       "<div>\n",
       "<style scoped>\n",
       "    .dataframe tbody tr th:only-of-type {\n",
       "        vertical-align: middle;\n",
       "    }\n",
       "\n",
       "    .dataframe tbody tr th {\n",
       "        vertical-align: top;\n",
       "    }\n",
       "\n",
       "    .dataframe thead th {\n",
       "        text-align: right;\n",
       "    }\n",
       "</style>\n",
       "<table border=\"1\" class=\"dataframe\">\n",
       "  <thead>\n",
       "    <tr style=\"text-align: right;\">\n",
       "      <th></th>\n",
       "      <th>title</th>\n",
       "      <th>url</th>\n",
       "      <th>text</th>\n",
       "      <th>dead</th>\n",
       "      <th>by</th>\n",
       "      <th>score</th>\n",
       "      <th>time</th>\n",
       "      <th>timestamp</th>\n",
       "      <th>type</th>\n",
       "      <th>id</th>\n",
       "      <th>parent</th>\n",
       "      <th>descendants</th>\n",
       "      <th>ranking</th>\n",
       "      <th>deleted</th>\n",
       "    </tr>\n",
       "  </thead>\n",
       "  <tbody>\n",
       "    <tr>\n",
       "      <th>0</th>\n",
       "      <td>None</td>\n",
       "      <td>None</td>\n",
       "      <td>None</td>\n",
       "      <td>None</td>\n",
       "      <td>None</td>\n",
       "      <td>NaN</td>\n",
       "      <td>1436815804</td>\n",
       "      <td>2015-07-13 19:30:04+00:00</td>\n",
       "      <td>story</td>\n",
       "      <td>9880449</td>\n",
       "      <td>NaN</td>\n",
       "      <td>NaN</td>\n",
       "      <td>NaN</td>\n",
       "      <td>True</td>\n",
       "    </tr>\n",
       "    <tr>\n",
       "      <th>1</th>\n",
       "      <td>None</td>\n",
       "      <td>None</td>\n",
       "      <td>None</td>\n",
       "      <td>None</td>\n",
       "      <td>None</td>\n",
       "      <td>NaN</td>\n",
       "      <td>1436816431</td>\n",
       "      <td>2015-07-13 19:40:31+00:00</td>\n",
       "      <td>story</td>\n",
       "      <td>9880512</td>\n",
       "      <td>NaN</td>\n",
       "      <td>NaN</td>\n",
       "      <td>NaN</td>\n",
       "      <td>True</td>\n",
       "    </tr>\n",
       "    <tr>\n",
       "      <th>2</th>\n",
       "      <td>None</td>\n",
       "      <td>None</td>\n",
       "      <td>None</td>\n",
       "      <td>None</td>\n",
       "      <td>None</td>\n",
       "      <td>NaN</td>\n",
       "      <td>1436816505</td>\n",
       "      <td>2015-07-13 19:41:45+00:00</td>\n",
       "      <td>story</td>\n",
       "      <td>9880522</td>\n",
       "      <td>NaN</td>\n",
       "      <td>NaN</td>\n",
       "      <td>NaN</td>\n",
       "      <td>True</td>\n",
       "    </tr>\n",
       "    <tr>\n",
       "      <th>3</th>\n",
       "      <td>None</td>\n",
       "      <td>None</td>\n",
       "      <td>None</td>\n",
       "      <td>None</td>\n",
       "      <td>None</td>\n",
       "      <td>NaN</td>\n",
       "      <td>1436816976</td>\n",
       "      <td>2015-07-13 19:49:36+00:00</td>\n",
       "      <td>story</td>\n",
       "      <td>9880569</td>\n",
       "      <td>NaN</td>\n",
       "      <td>NaN</td>\n",
       "      <td>NaN</td>\n",
       "      <td>True</td>\n",
       "    </tr>\n",
       "    <tr>\n",
       "      <th>4</th>\n",
       "      <td>None</td>\n",
       "      <td>None</td>\n",
       "      <td>None</td>\n",
       "      <td>None</td>\n",
       "      <td>None</td>\n",
       "      <td>NaN</td>\n",
       "      <td>1436819024</td>\n",
       "      <td>2015-07-13 20:23:44+00:00</td>\n",
       "      <td>story</td>\n",
       "      <td>9880796</td>\n",
       "      <td>NaN</td>\n",
       "      <td>NaN</td>\n",
       "      <td>NaN</td>\n",
       "      <td>True</td>\n",
       "    </tr>\n",
       "  </tbody>\n",
       "</table>\n",
       "</div>"
      ],
      "text/plain": [
       "  title   url  text  dead    by  score        time                 timestamp  \\\n",
       "0  None  None  None  None  None    NaN  1436815804 2015-07-13 19:30:04+00:00   \n",
       "1  None  None  None  None  None    NaN  1436816431 2015-07-13 19:40:31+00:00   \n",
       "2  None  None  None  None  None    NaN  1436816505 2015-07-13 19:41:45+00:00   \n",
       "3  None  None  None  None  None    NaN  1436816976 2015-07-13 19:49:36+00:00   \n",
       "4  None  None  None  None  None    NaN  1436819024 2015-07-13 20:23:44+00:00   \n",
       "\n",
       "    type       id  parent  descendants  ranking  deleted  \n",
       "0  story  9880449     NaN          NaN      NaN     True  \n",
       "1  story  9880512     NaN          NaN      NaN     True  \n",
       "2  story  9880522     NaN          NaN      NaN     True  \n",
       "3  story  9880569     NaN          NaN      NaN     True  \n",
       "4  story  9880796     NaN          NaN      NaN     True  "
      ]
     },
     "execution_count": 2,
     "metadata": {},
     "output_type": "execute_result"
    }
   ],
   "source": [
    "from google.cloud import bigquery\n",
    "\n",
    "# Create a \"Client\" object\n",
    "client = bigquery.Client()\n",
    "\n",
    "# Construct a reference to the \"hacker_news\" dataset\n",
    "dataset_ref = client.dataset(\"hacker_news\", project=\"bigquery-public-data\")\n",
    "\n",
    "# API request - fetch the dataset\n",
    "dataset = client.get_dataset(dataset_ref)\n",
    "\n",
    "# Construct a reference to the \"full\" table\n",
    "table_ref = dataset_ref.table(\"full\")\n",
    "\n",
    "# API request - fetch the table\n",
    "table = client.get_table(table_ref)\n",
    "\n",
    "# Preview the first five lines of the table\n",
    "client.list_rows(table, max_results=5).to_dataframe()"
   ]
  },
  {
   "cell_type": "markdown",
   "id": "bf6ad9f6",
   "metadata": {
    "papermill": {
     "duration": 0.005694,
     "end_time": "2024-09-05T11:49:42.376685",
     "exception": false,
     "start_time": "2024-09-05T11:49:42.370991",
     "status": "completed"
    },
    "tags": []
   },
   "source": [
    "# Exercises\n",
    "\n",
    "### 1) Prolific commenters\n",
    "\n",
    "Hacker News would like to send awards to everyone who has written more than 10,000 posts. Write a query that returns all authors with more than 10,000 posts as well as their post counts. Call the column with post counts `NumPosts`.\n",
    "\n",
    "In case sample query is helpful, here is a query you saw in the tutorial to answer a similar question:\n",
    "```\n",
    "query = \"\"\"\n",
    "        SELECT parent, COUNT(1) AS NumPosts\n",
    "        FROM `bigquery-public-data.hacker_news.full`\n",
    "        GROUP BY parent\n",
    "        HAVING COUNT(1) > 10\n",
    "        \"\"\"\n",
    "```"
   ]
  },
  {
   "cell_type": "code",
   "execution_count": 3,
   "id": "475a1148",
   "metadata": {
    "execution": {
     "iopub.execute_input": "2024-09-05T11:49:42.390918Z",
     "iopub.status.busy": "2024-09-05T11:49:42.389872Z",
     "iopub.status.idle": "2024-09-05T11:49:44.084201Z",
     "shell.execute_reply": "2024-09-05T11:49:44.082879Z"
    },
    "papermill": {
     "duration": 1.70438,
     "end_time": "2024-09-05T11:49:44.087009",
     "exception": false,
     "start_time": "2024-09-05T11:49:42.382629",
     "status": "completed"
    },
    "tags": []
   },
   "outputs": [
    {
     "name": "stdout",
     "output_type": "stream",
     "text": [
      "         author  NumPosts\n",
      "0      jseliger     12625\n",
      "1        baddox     10342\n",
      "2       coldtea     36312\n",
      "3  AnimalMuppet     19996\n",
      "4          vkou     10684\n"
     ]
    },
    {
     "data": {
      "application/javascript": [
       "parent.postMessage({\"jupyterEvent\": \"custom.exercise_interaction\", \"data\": {\"outcomeType\": 1, \"valueTowardsCompletion\": 0.5, \"interactionType\": 1, \"questionType\": 2, \"questionId\": \"1_ProlificCommenters\", \"learnToolsVersion\": \"0.3.4\", \"failureMessage\": \"\", \"exceptionClass\": \"\", \"trace\": \"\"}}, \"*\")"
      ],
      "text/plain": [
       "<IPython.core.display.Javascript object>"
      ]
     },
     "metadata": {},
     "output_type": "display_data"
    },
    {
     "data": {
      "text/markdown": [
       "<span style=\"color:#33cc33\">Correct</span>"
      ],
      "text/plain": [
       "Correct"
      ]
     },
     "metadata": {},
     "output_type": "display_data"
    }
   ],
   "source": [
    "# Query to select prolific commenters and post counts\n",
    "prolific_commenters_query = \"\"\"\n",
    "                            SELECT `by` AS author, COUNT(1) AS NumPosts\n",
    "                            FROM `bigquery-public-data.hacker_news.full`\n",
    "                            GROUP BY author\n",
    "                            HAVING COUNT(1) > 10000\n",
    "                            \"\"\" \n",
    "\n",
    "# Set up the query (cancel the query if it would use too much of \n",
    "# your quota, with the limit set to 1 GB)\n",
    "safe_config = bigquery.QueryJobConfig(maximum_bytes_billed=10**10)\n",
    "query_job = client.query(prolific_commenters_query, job_config=safe_config)\n",
    "\n",
    "# API request - run the query, and return a pandas DataFrame\n",
    "prolific_commenters = query_job.to_dataframe()\n",
    "\n",
    "# View top few rows of results\n",
    "print(prolific_commenters.head())\n",
    "\n",
    "# Check your answer\n",
    "q_1.check()"
   ]
  },
  {
   "cell_type": "markdown",
   "id": "bc4bbdeb",
   "metadata": {
    "papermill": {
     "duration": 0.006675,
     "end_time": "2024-09-05T11:49:44.100928",
     "exception": false,
     "start_time": "2024-09-05T11:49:44.094253",
     "status": "completed"
    },
    "tags": []
   },
   "source": [
    "For the solution, uncomment the line below."
   ]
  },
  {
   "cell_type": "code",
   "execution_count": 4,
   "id": "ee8daf84",
   "metadata": {
    "execution": {
     "iopub.execute_input": "2024-09-05T11:49:44.115817Z",
     "iopub.status.busy": "2024-09-05T11:49:44.115371Z",
     "iopub.status.idle": "2024-09-05T11:49:44.120843Z",
     "shell.execute_reply": "2024-09-05T11:49:44.119641Z"
    },
    "papermill": {
     "duration": 0.015909,
     "end_time": "2024-09-05T11:49:44.123390",
     "exception": false,
     "start_time": "2024-09-05T11:49:44.107481",
     "status": "completed"
    },
    "tags": []
   },
   "outputs": [],
   "source": [
    "#q_1.solution()"
   ]
  },
  {
   "cell_type": "markdown",
   "id": "eb412927",
   "metadata": {
    "papermill": {
     "duration": 0.00636,
     "end_time": "2024-09-05T11:49:44.136299",
     "exception": false,
     "start_time": "2024-09-05T11:49:44.129939",
     "status": "completed"
    },
    "tags": []
   },
   "source": [
    "### 2) Deleted comments\n",
    "\n",
    "How many comments have been deleted? (If a comment was deleted, the `deleted` column in the table will have the value `True`.)"
   ]
  },
  {
   "cell_type": "code",
   "execution_count": 5,
   "id": "85f972fc",
   "metadata": {
    "execution": {
     "iopub.execute_input": "2024-09-05T11:49:44.151324Z",
     "iopub.status.busy": "2024-09-05T11:49:44.150875Z",
     "iopub.status.idle": "2024-09-05T11:49:45.223859Z",
     "shell.execute_reply": "2024-09-05T11:49:45.222376Z"
    },
    "papermill": {
     "duration": 1.083692,
     "end_time": "2024-09-05T11:49:45.226618",
     "exception": false,
     "start_time": "2024-09-05T11:49:44.142926",
     "status": "completed"
    },
    "tags": []
   },
   "outputs": [
    {
     "name": "stdout",
     "output_type": "stream",
     "text": [
      "   num_deleted_posts\n",
      "0            1212622\n"
     ]
    }
   ],
   "source": [
    "# Write your query here and figure out the answer\n",
    "deleted_posts_query = \"\"\"\n",
    "                    SELECT COUNT(1) AS num_deleted_posts\n",
    "                    FROM `bigquery-public-data.hacker_news.full`\n",
    "                    WHERE deleted = True\n",
    "                    \"\"\"\n",
    "\n",
    "# Set up the query\n",
    "query_job = client.query(deleted_posts_query)\n",
    "\n",
    "# API request - run the query, and return a pandas DataFrame\n",
    "deleted_posts = query_job.to_dataframe()\n",
    "\n",
    "# View results\n",
    "print(deleted_posts)"
   ]
  },
  {
   "cell_type": "code",
   "execution_count": 6,
   "id": "bea8dca7",
   "metadata": {
    "execution": {
     "iopub.execute_input": "2024-09-05T11:49:45.241876Z",
     "iopub.status.busy": "2024-09-05T11:49:45.241404Z",
     "iopub.status.idle": "2024-09-05T11:49:45.251825Z",
     "shell.execute_reply": "2024-09-05T11:49:45.250551Z"
    },
    "papermill": {
     "duration": 0.021106,
     "end_time": "2024-09-05T11:49:45.254449",
     "exception": false,
     "start_time": "2024-09-05T11:49:45.233343",
     "status": "completed"
    },
    "tags": []
   },
   "outputs": [
    {
     "data": {
      "application/javascript": [
       "parent.postMessage({\"jupyterEvent\": \"custom.exercise_interaction\", \"data\": {\"outcomeType\": 1, \"valueTowardsCompletion\": 0.5, \"interactionType\": 1, \"questionType\": 1, \"questionId\": \"2_NumDeletedPosts\", \"learnToolsVersion\": \"0.3.4\", \"failureMessage\": \"\", \"exceptionClass\": \"\", \"trace\": \"\"}}, \"*\")"
      ],
      "text/plain": [
       "<IPython.core.display.Javascript object>"
      ]
     },
     "metadata": {},
     "output_type": "display_data"
    },
    {
     "data": {
      "text/markdown": [
       "<span style=\"color:#33cc33\">Correct</span>"
      ],
      "text/plain": [
       "Correct"
      ]
     },
     "metadata": {},
     "output_type": "display_data"
    }
   ],
   "source": [
    "num_deleted_posts = 1212622\n",
    "\n",
    "# Put your answer here\n",
    "\n",
    "\n",
    "# Check your answer\n",
    "q_2.check()"
   ]
  },
  {
   "cell_type": "markdown",
   "id": "8020b878",
   "metadata": {
    "papermill": {
     "duration": 0.006517,
     "end_time": "2024-09-05T11:49:45.268144",
     "exception": false,
     "start_time": "2024-09-05T11:49:45.261627",
     "status": "completed"
    },
    "tags": []
   },
   "source": [
    "For the solution, uncomment the line below."
   ]
  },
  {
   "cell_type": "code",
   "execution_count": 7,
   "id": "1be87cea",
   "metadata": {
    "execution": {
     "iopub.execute_input": "2024-09-05T11:49:45.283604Z",
     "iopub.status.busy": "2024-09-05T11:49:45.283092Z",
     "iopub.status.idle": "2024-09-05T11:49:45.288615Z",
     "shell.execute_reply": "2024-09-05T11:49:45.287221Z"
    },
    "papermill": {
     "duration": 0.016306,
     "end_time": "2024-09-05T11:49:45.291256",
     "exception": false,
     "start_time": "2024-09-05T11:49:45.274950",
     "status": "completed"
    },
    "tags": []
   },
   "outputs": [],
   "source": [
    "#q_2.solution()"
   ]
  },
  {
   "cell_type": "markdown",
   "id": "f03416c2",
   "metadata": {
    "papermill": {
     "duration": 0.006559,
     "end_time": "2024-09-05T11:49:45.304795",
     "exception": false,
     "start_time": "2024-09-05T11:49:45.298236",
     "status": "completed"
    },
    "tags": []
   },
   "source": [
    "# Keep Going\n",
    "**[Click here](https://www.kaggle.com/dansbecker/order-by)** to move on and learn about the **ORDER BY** clause."
   ]
  },
  {
   "cell_type": "markdown",
   "id": "e1bbeb5b",
   "metadata": {
    "papermill": {
     "duration": 0.006591,
     "end_time": "2024-09-05T11:49:45.318116",
     "exception": false,
     "start_time": "2024-09-05T11:49:45.311525",
     "status": "completed"
    },
    "tags": []
   },
   "source": [
    "---\n",
    "\n",
    "\n",
    "\n",
    "\n",
    "*Have questions or comments? Visit the [course discussion forum](https://www.kaggle.com/learn/intro-to-sql/discussion) to chat with other learners.*"
   ]
  }
 ],
 "metadata": {
  "kaggle": {
   "accelerator": "none",
   "dataSources": [
    {
     "datasetId": 6057,
     "sourceId": 285982,
     "sourceType": "datasetVersion"
    }
   ],
   "isGpuEnabled": false,
   "isInternetEnabled": false,
   "language": "python",
   "sourceType": "notebook"
  },
  "kernelspec": {
   "display_name": "Python 3",
   "language": "python",
   "name": "python3"
  },
  "language_info": {
   "codemirror_mode": {
    "name": "ipython",
    "version": 3
   },
   "file_extension": ".py",
   "mimetype": "text/x-python",
   "name": "python",
   "nbconvert_exporter": "python",
   "pygments_lexer": "ipython3",
   "version": "3.10.14"
  },
  "papermill": {
   "default_parameters": {},
   "duration": 16.894732,
   "end_time": "2024-09-05T11:49:46.147913",
   "environment_variables": {},
   "exception": null,
   "input_path": "__notebook__.ipynb",
   "output_path": "__notebook__.ipynb",
   "parameters": {},
   "start_time": "2024-09-05T11:49:29.253181",
   "version": "2.6.0"
  }
 },
 "nbformat": 4,
 "nbformat_minor": 5
}
